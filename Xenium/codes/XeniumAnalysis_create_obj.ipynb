{
 "cells": [
  {
   "cell_type": "markdown",
   "metadata": {},
   "source": [
    "# Xenium 5k public data\n"
   ]
  },
  {
   "cell_type": "code",
   "execution_count": 1,
   "metadata": {},
   "outputs": [],
   "source": [
    "import spatialdata\n",
    "import spatialdata_plot\n",
    "import spatialdata_io\n",
    "import scanpy as sc\n",
    "import matplotlib.pyplot as plt\n",
    "import numpy as np"
   ]
  },
  {
   "cell_type": "markdown",
   "metadata": {},
   "source": [
    "The raw Xenium data can be downloaded from: https://www.10xgenomics.com/datasets/xenium-human-lung-cancer-post-xenium-technote"
   ]
  },
  {
   "cell_type": "code",
   "execution_count": null,
   "metadata": {},
   "outputs": [],
   "source": [
    "sdata = spatialdata_io.xenium(\"/staging/leuven/stg_00080/vrc/Projects/Project_Sam/Xenium/data/Xenium_Prime_Human_Lung_Cancer_FFPE_outs/\")\n",
    "sdata"
   ]
  },
  {
   "cell_type": "code",
   "execution_count": null,
   "metadata": {},
   "outputs": [],
   "source": [
    "adata = sdata.tables[\"table\"].copy()\n",
    "adata"
   ]
  },
  {
   "cell_type": "code",
   "execution_count": 4,
   "metadata": {},
   "outputs": [],
   "source": [
    "# Save a copy of the raw data before preprocessing\n",
    "adata.layers[\"counts\"] = adata.X.copy()"
   ]
  },
  {
   "cell_type": "markdown",
   "metadata": {},
   "source": [
    "### Export"
   ]
  },
  {
   "cell_type": "code",
   "execution_count": null,
   "metadata": {},
   "outputs": [],
   "source": [
    "# Read the spatial coordinates into the metadata dataframe\n",
    "adata.obs[\"x\"] = adata.obsm[\"spatial\"][:, 0]\n",
    "adata.obs[\"y\"] = adata.obsm[\"spatial\"][:, 1]"
   ]
  },
  {
   "cell_type": "code",
   "execution_count": null,
   "metadata": {},
   "outputs": [],
   "source": [
    "from scipy.sparse import save_npz\n",
    "from scipy.io import mmwrite\n",
    "mmwrite(\"/staging/leuven/stg_00080/vrc/Projects/Project_Sam/Xenium/objects/NSCLC/NSCLC_5K_FFPE_matrix.mtx\", adata.layers[\"counts\"])\n",
    "adata.obs.to_csv(\"/staging/leuven/stg_00080/vrc/Projects/Project_Sam/Xenium/objects/NSCLC/NSCLC_5K_FFPE_metadata.csv\")\n",
    "\n",
    "# Write the feature names\n",
    "with open(\"/staging/leuven/stg_00080/vrc/Projects/Project_Sam/Xenium/objects/NSCLC/NSCLC_5K_FFPE_gene_names.txt\", 'w') as f:\n",
    "    f.writelines([i + \"\\n\" for i in list(adata.var_names)])"
   ]
  }
 ],
 "metadata": {
  "kernelspec": {
   "display_name": "Python 3",
   "language": "python",
   "name": "python3"
  },
  "language_info": {
   "codemirror_mode": {
    "name": "ipython",
    "version": 3
   },
   "file_extension": ".py",
   "mimetype": "text/x-python",
   "name": "python",
   "nbconvert_exporter": "python",
   "pygments_lexer": "ipython3",
   "version": "3.12.4"
  }
 },
 "nbformat": 4,
 "nbformat_minor": 2
}
